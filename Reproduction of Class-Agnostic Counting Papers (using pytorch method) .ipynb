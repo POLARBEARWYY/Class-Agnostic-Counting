{
 "cells": [
  {
   "cell_type": "code",
   "execution_count": 1,
   "metadata": {},
   "outputs": [],
   "source": [
    "import os\n",
    "import re \n",
    "import cv2\n",
    "import scipy\n",
    "import torch\n",
    "import random\n",
    "import argparse\n",
    "import numpy as np\n",
    "from torch import nn\n",
    "from PIL import Image\n",
    "import torchvision as tv\n",
    "from scipy.signal import *\n",
    "from tensorboardX import SummaryWriter\n",
    "import torchvision.models as models\n",
    "from matplotlib import pyplot as plt\n",
    "from torchvision import datasets, transforms\n",
    "from torch.utils.data import DataLoader, Dataset\n",
    "from skimage import transform,data"
   ]
  },
  {
   "cell_type": "code",
   "execution_count": 2,
   "metadata": {},
   "outputs": [],
   "source": [
    "def load_gt_bbox(filepath):#相当于是钥匙，用于打开每个房间的门\n",
    "    with open(filepath) as f:\n",
    "        data = f.read()\n",
    "        objs = re.findall('\\d+ \\d+ \\d+ \\d+ \\d+', data)\n",
    "        nums_obj = len(objs)\n",
    "        gtBBs = np.zeros((nums_obj, 4),dtype=np.int64)\n",
    "        for idx, obj in enumerate(objs):\n",
    "            info = re.findall('\\d+', obj)\n",
    "            x1 = float(info[0])\n",
    "            y1 = float(info[1])\n",
    "            x2 = float(info[2])\n",
    "            y2 = float(info[3])\n",
    "            gtBBs[idx, :] = [x1, y1, x2, y2]\n",
    "        return gtBBs"
   ]
  },
  {
   "cell_type": "code",
   "execution_count": 3,
   "metadata": {},
   "outputs": [],
   "source": [
    "class HeatMap(object):\n",
    "    def __init__(self, radius = 3):\n",
    "        self.radius = radius\n",
    "        \n",
    "    def _generate_heatmap(self, center, sigma):\n",
    "        X = self.X - center[1]\n",
    "        Y = self.Y - center[0]\n",
    "        DX = X ** 2 \n",
    "        DY = Y ** 2\n",
    "        EX = 2.0 * sigma[1] * sigma[1]\n",
    "        EY = 2.0 * sigma[0] * sigma[0]\n",
    "        heatmap = torch.exp(-(DX / EX + DY / EY) / 2)#/2 * sigma[0] * sigma[1]\n",
    "        return heatmap\n",
    "                            \n",
    "    def __call__(self, sample):\n",
    "        X1 = torch.linspace(1, sample['image'].shape[0], sample['image'].shape[0]).cuda()#linspace(start, end, steps=100, out=None, dtype=None, layout=torch.strided, device=None, requires_grad=False)\n",
    "        Y1 = torch.linspace(1, sample['image'].shape[1], sample['image'].shape[1]).cuda()#原来慢是因为python循环很慢，所以用c++来做\n",
    "        self.X,self.Y = torch.meshgrid([X1, Y1])#生成原图中每个点的坐标，meshgrid内部实现是c++\n",
    "        heatmaps = torch.cat([torch.unsqueeze(\n",
    "        self._generate_heatmap(\n",
    "        ((i[2] + i[0]) / 2, (i[3] + i[1]) / 2),\n",
    "        ((i[2] - i[0]) / (2 * self.radius), (i[3] - i[1]) / (2 * self.radius))).cpu().data,\n",
    "        0) for i in sample['label']], 0)#这里是将所有的热力图拼起来，一个热力图是h w,m个热力图拼起来就是 h w m,m 就是有m个小车，有m个热力图\n",
    "                            #因为车离的很近，概率分布就有重叠，重叠的处理，原来的方法是后面的车，覆盖了前面的车，\n",
    "        sample['heatmap'] = heatmaps.max(0)[0].numpy()\n",
    "        #sample['heatmap_patch'] = heatmaps[sample['patch_index']]\n",
    "        return sample"
   ]
  },
  {
   "cell_type": "code",
   "execution_count": 4,
   "metadata": {},
   "outputs": [],
   "source": [
    "class ToTensor(object):\n",
    "    def __init__(self):\n",
    "        pass\n",
    "    def __call__(self, sample):\n",
    "        sample['image'] = torch.tensor(np.transpose(sample['image'],(2, 0, 1)),dtype = torch.float32) / 255#h（0）w（1）c（2）是012，这里要变成chw（所以是201）\n",
    "        sample['exemplar'] = torch.tensor(np.transpose(sample['exemplar'],(2, 0, 1)),dtype = torch.float32) / 255\n",
    "        sample['heatmap'] = torch.tensor(sample['heatmap'],dtype = torch.float32)\n",
    "        sample.pop('label')#把label去掉，“过河拆桥”\n",
    "\n",
    "        return (sample)\n",
    "    \n",
    "\n",
    "class Randomcrop(object):\n",
    "    def __init__(self):\n",
    "        pass\n",
    "    def __call__(self,sample):\n",
    "        img = sample['image']\n",
    "        BB = sample['label']\n",
    "        slice = random.sample(list(BB), 1)\n",
    "        roi = img[(slice[[0][0]][1]):(slice[[0][0]][3]), (slice[[0][0]][0]):(slice[[0][0]][2])]\n",
    "        sample['exemplar'] = roi\n",
    "        return sample                                    \n",
    "                                        \n",
    "    \n",
    "class Resize(object):\n",
    "    def __init__(self, image_output_size, exemplar_output_size, heatmap_output_size):\n",
    "        self.image_output_size = image_output_size\n",
    "        self.exemplar_output_size = exemplar_output_size\n",
    "        self.heatmap_output_size = heatmap_output_size\n",
    "    def __call__(self, sample):\n",
    "        sample['image'] = cv2.resize(sample['image'], self.image_output_size)\n",
    "        sample['exemplar'] = cv2.resize(sample['exemplar'], self.exemplar_output_size)\n",
    "        sample['heatmap'] = cv2.resize(sample['heatmap'], self.heatmap_output_size)\n",
    "        return sample\n",
    "    \n",
    "      \n",
    "    \n",
    "class CarDataset(Dataset):\n",
    "    def __init__(self, root_path, label_path, transforms=None, is_train=True):\n",
    "        self.root_path = root_path\n",
    "        self.label_path = label_path\n",
    "        self.file_paths = []\n",
    "        self.label_paths = []\n",
    "        self.transforms = transforms\n",
    "        \n",
    "        for sub_dir in os.listdir(root_path):#os.listdir() 方法用于返回指定的文件夹包含的文件或文件夹的名字的列表。\n",
    "            sub_path = root_path + sub_dir\n",
    "            if sub_path.endswith('png'):\n",
    "                self.file_paths.append(sub_path)#建立file_paths列表。相当于是房间号  \n",
    "        self.file_paths = sorted(self.file_paths)\n",
    "        \n",
    "        for lab_dir in os.listdir(label_path):\n",
    "            lab_path = label_path + lab_dir\n",
    "            if lab_path.endswith('txt'):\n",
    "                self.label_paths.append(lab_path)#append() 方法用于在列表末尾添加新的对象。相当于是钥匙号    \n",
    "        self.label_paths = sorted(self.label_paths)\n",
    "        \n",
    "        if is_train:\n",
    "            self.file_paths = self.file_paths[: len(self.file_paths) * 8 // 10]\n",
    "            self.label_paths = self.label_paths[: len(self.label_paths) * 8 // 10]\n",
    "        else:\n",
    "            self.file_paths = self.file_paths[len(self.file_paths) * 8 // 10:]\n",
    "            self.label_paths = self.label_paths[len(self.label_paths) * 8 // 10:]\n",
    "            \n",
    "        if (len(self.file_paths) == len(self.label_paths)):\n",
    "            pass\n",
    "        else:\n",
    "            print(\"Error\")\n",
    "    \n",
    "    \n",
    "    \n",
    "    def __len__(self):\n",
    "        return len(self.file_paths)\n",
    "    \n",
    "    \n",
    "    def __getitem__(self, idx):\n",
    "        img_path = self.file_paths[idx]#得到第几张图片\n",
    "        label_paths = self.label_paths[idx]\n",
    "        image = cv2.imread(img_path)\n",
    "        label = load_gt_bbox(label_paths)\n",
    "        sample = {'image':image, 'label':label}#是个字典\n",
    "        #sample = (image, label)#是一个元祖tuple\n",
    "        #print(img_path)\n",
    "        if not self.transforms is None:\n",
    "            sample = self.transforms(sample)  \n",
    "        return sample"
   ]
  },
  {
   "cell_type": "code",
   "execution_count": 5,
   "metadata": {},
   "outputs": [],
   "source": [
    "car_dataset = CarDataset(root_path = 'datasets/CARPK_devkit/data/Images/',\n",
    "                         label_path = 'datasets/CARPK_devkit/data/Annotations/',\n",
    "                           transforms = tv.transforms.Compose([\n",
    "                               Randomcrop(),\n",
    "                               HeatMap(),\n",
    "                               Resize((255, 255), (255, 255), (64, 64)),\n",
    "                               ToTensor()    \n",
    "                          ]))\n",
    "#print(car_dataset)\n",
    "#print(len(car_dataset))\n",
    "#print(car_dataset[201])\n",
    "dst = car_dataset[201]"
   ]
  },
  {
   "cell_type": "code",
   "execution_count": 6,
   "metadata": {},
   "outputs": [],
   "source": [
    "imgimg = dst['image']\n",
    "imgexemplar = dst['exemplar']\n",
    "imgheatmap = dst['heatmap']\n",
    "#plt.imshow(imgheatmap)\n",
    "#print(imgheatmap.shape)"
   ]
  },
  {
   "cell_type": "code",
   "execution_count": 7,
   "metadata": {},
   "outputs": [],
   "source": [
    "class CountingNet(nn.Module):\n",
    "    def __init__(self):\n",
    "        super(CountingNet, self).__init__()\n",
    "        resnet = tv.models.resnet50(pretrained=True)\n",
    "        self.resnet_layer = torch.nn.Sequential(*list(resnet.children())[:6])\n",
    "        self.maxpool = nn.AdaptiveMaxPool2d(1)\n",
    "        self.conv1 = nn.Conv2d(1024, 256, 3, 1, 1)\n",
    "        self.convt1 = nn.ConvTranspose2d(256, 256, 3, 2, 1)\n",
    "        self.conv2 = nn.Conv2d(256, 1, 3, 1, 1)\n",
    "    \n",
    "    def forward(self, exemplar, count_image):\n",
    "        exemplar = self.resnet_layer(exemplar)\n",
    "        exemplar = self.maxpool(exemplar)\n",
    "        exemplar = exemplar.expand(exemplar.shape[0], 512, 32, 32)\n",
    "        count_image = self.resnet_layer(count_image)\n",
    "        concatenation = torch.cat((exemplar, count_image),1)#拼接\n",
    "        relation = self.conv1(concatenation)\n",
    "        relation = self.convt1(relation)\n",
    "        prediction = self.conv2(relation)\n",
    "        \n",
    "        return prediction"
   ]
  },
  {
   "cell_type": "code",
   "execution_count": 8,
   "metadata": {},
   "outputs": [
    {
     "data": {
      "text/plain": [
       "torch.Size([1, 1, 63, 63])"
      ]
     },
     "execution_count": 8,
     "metadata": {},
     "output_type": "execute_result"
    }
   ],
   "source": [
    "model = CountingNet()\n",
    "model(torch.rand(1, 3, 63, 63), torch.rand(1, 3, 255, 255)).shape"
   ]
  },
  {
   "cell_type": "code",
   "execution_count": 9,
   "metadata": {},
   "outputs": [],
   "source": [
    "batch_size = 40\n",
    "car_dataset = CarDataset(root_path = 'datasets/CARPK_devkit/data/Images/',\n",
    "                         label_path = 'datasets/CARPK_devkit/data/Annotations/',\n",
    "                           transforms = tv.transforms.Compose([\n",
    "                               Randomcrop(),\n",
    "                               HeatMap(),\n",
    "                               Resize((255, 255), (255, 255), (63, 63)),\n",
    "                               ToTensor()    \n",
    "                          ]))\n",
    "car_loader = DataLoader(dataset = car_dataset, \n",
    "                          batch_size = batch_size, \n",
    "                          shuffle = True,#   #把数据打乱 \n",
    "                          num_workers = 0)   #多线程读图片，即用了32个线程\n",
    "    \n",
    "vali_dataset = CarDataset(root_path = 'datasets/CARPK_devkit/data/Images/',\n",
    "                          label_path = 'datasets/CARPK_devkit/data/Annotations/', \n",
    "                           transforms = tv.transforms.Compose([\n",
    "                               Randomcrop(),\n",
    "                               HeatMap(),\n",
    "                               Resize((255, 255), (255, 255), (63, 63)),\n",
    "                               ToTensor()]),is_train = False)\n",
    "vali_loader = DataLoader(dataset = vali_dataset, \n",
    "                          batch_size = batch_size, \n",
    "                          shuffle = True,   #把数据打乱 \n",
    "                          num_workers = 0)   #多线程读图片，即用了32个线程\n",
    "    \n",
    "model_single = CountingNet()\n",
    "devices = [0, 1, 2, 3]\n",
    "model = nn.DataParallel(model_single, device_ids = devices).cuda()\n",
    "criterion = torch.nn.MSELoss()"
   ]
  },
  {
   "cell_type": "code",
   "execution_count": 10,
   "metadata": {},
   "outputs": [],
   "source": [
    "optimizer = torch.optim.SGD(params = model.parameters(), lr= 1e-2, weight_decay= 1e-6, momentum= 0.9)"
   ]
  },
  {
   "cell_type": "code",
   "execution_count": 11,
   "metadata": {},
   "outputs": [],
   "source": [
    "for epoch in range(10): \n",
    "    model.train()\n",
    "    for data in car_loader:\n",
    "        batch_img = data['image'].cuda() #从迭代器中取出大图\n",
    "        batch_exemplar = data[\"exemplar\"].cuda() #从迭代器中取出小图\n",
    "        batch_heatmap = data['heatmap'].cuda() #从迭代器中取出热力图\n",
    "        optimizer.zero_grad()    #优化器梯度初始化为0\n",
    "        output = model(batch_exemplar, batch_img)\n",
    "        output = output.squeeze()\n",
    "       # print(output.shape)\n",
    "        loss = criterion(output, batch_heatmap)\n",
    "        writer.add_scalar('data/scalar1', loss, step)\n",
    "        loss.backward()\n",
    "        optimizer.step()\n",
    "    torch.save(model.state_dict(), 'counting.pt')"
   ]
  },
  {
   "cell_type": "code",
   "execution_count": 13,
   "metadata": {},
   "outputs": [
    {
     "name": "stdout",
     "output_type": "stream",
     "text": [
      "tensor(0.0138, device='cuda:0', grad_fn=<MseLossBackward>)\n"
     ]
    }
   ],
   "source": [
    "print(loss)"
   ]
  },
  {
   "cell_type": "code",
   "execution_count": 15,
   "metadata": {},
   "outputs": [
    {
     "name": "stdout",
     "output_type": "stream",
     "text": [
      "torch.Size([38, 63, 63])\n"
     ]
    }
   ],
   "source": [
    "print(output.shape)"
   ]
  },
  {
   "cell_type": "code",
   "execution_count": 17,
   "metadata": {},
   "outputs": [
    {
     "name": "stdout",
     "output_type": "stream",
     "text": [
      "tensor([[[ 0.0804,  0.0261,  0.0374,  ...,  0.0444,  0.0107, -0.0197],\n",
      "         [ 0.1136,  0.0846,  0.0108,  ...,  0.0349,  0.0014,  0.0064],\n",
      "         [ 0.1366,  0.0458, -0.0037,  ...,  0.0088, -0.0051, -0.0241],\n",
      "         ...,\n",
      "         [ 0.1108,  0.2210,  0.1969,  ...,  0.1702,  0.1069,  0.0329],\n",
      "         [ 0.1501,  0.2664,  0.2365,  ...,  0.0937,  0.0334,  0.0335],\n",
      "         [ 0.1012,  0.1393,  0.1150,  ...,  0.0014, -0.0020, -0.0056]],\n",
      "\n",
      "        [[-0.0047, -0.0091, -0.0165,  ...,  0.0151,  0.1177,  0.0573],\n",
      "         [ 0.0154,  0.0170, -0.0010,  ...,  0.0127,  0.1531,  0.1221],\n",
      "         [-0.0122, -0.0081, -0.0309,  ...,  0.0232,  0.1975,  0.1273],\n",
      "         ...,\n",
      "         [ 0.0007,  0.0203,  0.0028,  ...,  0.0683,  0.1484,  0.1051],\n",
      "         [ 0.0212,  0.0260, -0.0083,  ...,  0.0535,  0.1045,  0.1117],\n",
      "         [ 0.0231,  0.0184, -0.0048,  ...,  0.0193,  0.0631,  0.0663]],\n",
      "\n",
      "        [[ 0.1044,  0.1316,  0.0777,  ...,  0.0244,  0.0227, -0.0255],\n",
      "         [ 0.2089,  0.2895,  0.1870,  ...,  0.0230,  0.0395,  0.0175],\n",
      "         [ 0.2803,  0.3361,  0.2312,  ...,  0.0472,  0.0320, -0.0006],\n",
      "         ...,\n",
      "         [ 0.0021,  0.0043, -0.0066,  ..., -0.0124, -0.0102,  0.0132],\n",
      "         [-0.0184, -0.0023, -0.0422,  ...,  0.0166,  0.0065,  0.0205],\n",
      "         [ 0.0054, -0.0273, -0.0256,  ...,  0.0070,  0.0034,  0.0277]],\n",
      "\n",
      "        ...,\n",
      "\n",
      "        [[ 0.0127,  0.0027,  0.0078,  ...,  0.0457,  0.0302, -0.0121],\n",
      "         [ 0.0019, -0.0196, -0.0155,  ...,  0.0260,  0.0306,  0.0115],\n",
      "         [-0.0180, -0.0380, -0.0360,  ...,  0.0254,  0.0218, -0.0079],\n",
      "         ...,\n",
      "         [ 0.0101,  0.0507,  0.0659,  ...,  0.0604,  0.0324,  0.0034],\n",
      "         [ 0.0011,  0.0450,  0.0651,  ...,  0.0610,  0.0605,  0.0382],\n",
      "         [ 0.0051,  0.0058,  0.0047,  ...,  0.0155,  0.0245,  0.0207]],\n",
      "\n",
      "        [[ 0.0158,  0.0088, -0.0002,  ...,  0.0383,  0.0531,  0.0191],\n",
      "         [ 0.0130,  0.0073, -0.0275,  ...,  0.0562,  0.0775,  0.0813],\n",
      "         [ 0.0176,  0.0181,  0.0196,  ...,  0.0810,  0.1338,  0.0928],\n",
      "         ...,\n",
      "         [-0.0212, -0.0006,  0.0077,  ...,  0.0095, -0.0088,  0.0161],\n",
      "         [-0.0187, -0.0083,  0.0046,  ..., -0.0022, -0.0330,  0.0124],\n",
      "         [ 0.0030, -0.0137, -0.0166,  ..., -0.0364, -0.0295,  0.0036]],\n",
      "\n",
      "        [[ 0.0274,  0.0140,  0.0114,  ...,  0.0791,  0.0452, -0.0053],\n",
      "         [ 0.0344,  0.0002, -0.0288,  ...,  0.0846,  0.0639,  0.0182],\n",
      "         [ 0.0082, -0.0059, -0.0391,  ...,  0.0794,  0.0693,  0.0114],\n",
      "         ...,\n",
      "         [ 0.1114,  0.1598,  0.1141,  ..., -0.0250, -0.0081,  0.0046],\n",
      "         [ 0.0565,  0.0855,  0.0436,  ..., -0.0236, -0.0264, -0.0136],\n",
      "         [ 0.0364,  0.0148,  0.0109,  ..., -0.0333, -0.0218,  0.0009]]],\n",
      "       device='cuda:0', grad_fn=<SqueezeBackward0>)\n"
     ]
    }
   ],
   "source": [
    "print(output)"
   ]
  },
  {
   "cell_type": "code",
   "execution_count": 30,
   "metadata": {},
   "outputs": [
    {
     "data": {
      "text/plain": [
       "<matplotlib.image.AxesImage at 0x7f38c03aab38>"
      ]
     },
     "execution_count": 30,
     "metadata": {},
     "output_type": "execute_result"
    },
    {
     "data": {
      "image/png": "[encoded data removed]",
      "text/plain": [
       "<Figure size 432x288 with 1 Axes>"
      ]
     },
     "metadata": {
      "needs_background": "light"
     },
     "output_type": "display_data"
    }
   ],
   "source": [
    "plt.imshow(output[32].detach().data)"
   ]
  },
  {
   "cell_type": "code",
   "execution_count": 31,
   "metadata": {},
   "outputs": [
    {
     "data": {
      "text/plain": [
       "<matplotlib.image.AxesImage at 0x7f38c0309550>"
      ]
     },
     "execution_count": 31,
     "metadata": {},
     "output_type": "execute_result"
    },
    {
     "data": {
      "image/png": "[encoded data removed]",
      "text/plain": [
       "<Figure size 432x288 with 1 Axes>"
      ]
     },
     "metadata": {
      "needs_background": "light"
     },
     "output_type": "display_data"
    }
   ],
   "source": [
    "plt.imshow(batch_heatmap [32].detach().data)"
   ]
  },
  {
   "cell_type": "code",
   "execution_count": null,
   "metadata": {},
   "outputs": [],
   "source": []
  }
 ],
 "metadata": {
  "kernelspec": {
   "display_name": "Python 3",
   "language": "python",
   "name": "python3"
  },
  "language_info": {
   "codemirror_mode": {
    "name": "ipython",
    "version": 3
   },
   "file_extension": ".py",
   "mimetype": "text/x-python",
   "name": "python",
   "nbconvert_exporter": "python",
   "pygments_lexer": "ipython3",
   "version": "3.7.0"
  }
 },
 "nbformat": 4,
 "nbformat_minor": 2
}
